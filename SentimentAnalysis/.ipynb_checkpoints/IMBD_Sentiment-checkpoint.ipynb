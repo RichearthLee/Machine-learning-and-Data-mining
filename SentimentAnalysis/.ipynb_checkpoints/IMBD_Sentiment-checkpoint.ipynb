{
 "cells": [
  {
   "cell_type": "code",
   "execution_count": 10,
   "metadata": {},
   "outputs": [
    {
     "name": "stdout",
     "output_type": "stream",
     "text": [
      "          id  label                                             review\n",
      "0          1      1  With all this stuff going down at the moment w...\n",
      "1          2      1  \\The Classic War of the Worlds\\\" by Timothy Hi...\n",
      "2          3      0  The film starts with a manager (Nicholas Bell)...\n",
      "3          4      0  It must be assumed that those who praised this...\n",
      "4          5      1  Superbly trashy and wondrously unpretentious 8...\n",
      "5          6      1  I dont know why people think this is such a ba...\n",
      "6          7      0  This movie could have been very good, but come...\n",
      "7          8      0  I watched this video at a friend's house. I'm ...\n",
      "8          9      0  A friend of mine bought this film for £1, and ...\n",
      "9         10      1  <br /><br />This movie is full of references. ...\n",
      "10        11      0  What happens when an army of wetbacks, towelhe...\n",
      "11        12      1  Although I generally do not like remakes belie...\n",
      "12        13      1  \\Mr. Harvey Lights a Candle\\\" is anchored by a...\n",
      "13        14      0  I had a feeling that after \\Submerged\\\", this ...\n",
      "14        15      0  note to George Litman, and others: the Mystery...\n",
      "15        16      0  Stephen King adaptation (scripted by King hims...\n",
      "16        17      0  `The Matrix' was an exciting summer blockbuste...\n",
      "17        18      0  Ulli Lommel's 1980 film 'The Boogey Man' is no...\n",
      "18        19      1  This movie is one among the very few Indian mo...\n",
      "19        20      1  Most people, especially young people, may not ...\n",
      "20        21      1  \\Soylent Green\\\" is one of the best and most d...\n",
      "21        22      1  Michael Stearns plays Mike, a sexually frustra...\n",
      "22        23      1  This happy-go-luck 1939 military swashbuckler,...\n",
      "23        24      0  I would love to have that two hours of my life...\n",
      "24        25      0  The script for this movie was probably found i...\n",
      "25        26      1  Looking for Quo Vadis at my local video store,...\n",
      "26        27      0  Note to all mad scientists everywhere: if you'...\n",
      "27        28      0  What the ........... is this ? This must, with...\n",
      "28        29      0  Intrigued by the synopsis (every gay video the...\n",
      "29        30      0  Would anyone really watch this RUBBISH if it d...\n",
      "...      ...    ...                                                ...\n",
      "19970  19971      0  A Movie about a bunch of some kind of filmmake...\n",
      "19971  19972      1  \\Jared Diamond made a point in the first episo...\n",
      "19972  19973      0  Jeez, only in the 70's... Antonio Margheriti b...\n",
      "19973  19974      1  It is a superb Swedish film .. it was the firs...\n",
      "19974  19975      0  I can't quite say that \\Jerry Springer:Ringmas...\n",
      "19975  19976      0  Tatie Danielle is all about a ghastly old hag ...\n",
      "19976  19977      0  Absolutely the worst film yet by Burton, who s...\n",
      "19977  19978      1  Tripping Over. I must say at first I was a lit...\n",
      "19978  19979      1  Military training films are becoming so common...\n",
      "19979  19980      1  The movie itself made me want to go and call s...\n",
      "19980  19981      0  This is one very dire production. The general ...\n",
      "19981  19982      0  A great concept gone wrong. Poor acting, even ...\n",
      "19982  19983      0  If you have read the book - do not set your ho...\n",
      "19983  19984      0  Charles Bronson continued his 80's slump with ...\n",
      "19984  19985      0  I hated this show when I was a kid. That was b...\n",
      "19985  19986      1  Enjoyable in spite of Leslie Howard's performa...\n",
      "19986  19987      0  A trio of low-life criminals, led by Matt Dill...\n",
      "19987  19988      0  In this strangely-lackadaisical apocalypse, th...\n",
      "19988  19989      0  Remembering the dirty particulars of this insi...\n",
      "19989  19990      0  Last night I decided to watch the prequel or s...\n",
      "19990  19991      0  Not that he'd care, but I'm not one of Simon P...\n",
      "19991  19992      1  I first saw this movie back in the early '90's...\n",
      "19992  19993      1  NYC, 2022: The Greenhouse effect, vanished oce...\n",
      "19993  19994      1  Those individuals familiar with Asian cinema, ...\n",
      "19994  19995      1  The kids, aged 7 to 14, got such a huge kick o...\n",
      "19995  19996      0  You know the story..Pretty kids alone in the w...\n",
      "19996  19997      1  I so love this movie! The animation is great (...\n",
      "19997  19998      0  I looked over the other comments and was thoro...\n",
      "19998  19999      0  i am a big fan of karishma Kapoor and Govinda....\n",
      "19999  20000      0  There seem to have been any number of films li...\n",
      "\n",
      "[20000 rows x 3 columns]\n"
     ]
    }
   ],
   "source": [
    "\n",
    "import numpy as np # linear algebra\n",
    "import pandas as pd # data processing, CSV file I/O (e.g. pd.read_csv)\n",
    "import re\n",
    "import pandas as pd\n",
    "from nltk.corpus import stopwords\n",
    "import re\n",
    "import os\n",
    "import matplotlib.pyplot as plt\n",
    "import seaborn as sns\n",
    "color = sns.color_palette()\n",
    "import warnings\n",
    "import nltk\n",
    "warnings.filterwarnings('ignore')\n",
    "\n",
    "\n",
    "data = pd.read_csv(\"C:/Users/heave/Project/Machine-learning-and-Data-mining/data/question1_sentiment.csv\" )#,header=0, delimiter=\"\\t\", quoting=3\n",
    "#df_train.head()\n",
    "#print(data.info())\n",
    "#DataFrame(data.head())\n",
    "#data.head()\n",
    "#print(data.describe())\n",
    "#print(data)\n",
    "\n",
    "#data[\"review\"].head()\n",
    "\n",
    "#data = data.rename(columns = {'id':'a' , 'label':'b' , 'review':'c'}) #列名重命名\n",
    "\n",
    "#df_train为训练集\n",
    "df_train = data.head (n = 20000)\n",
    "print(df_train)\n",
    "\n"
   ]
  },
  {
   "cell_type": "code",
   "execution_count": 11,
   "metadata": {},
   "outputs": [
    {
     "name": "stdout",
     "output_type": "stream",
     "text": [
      "          id  label                                             review\n",
      "15000  15001      1  Father of the Pride was the best new show to h...\n",
      "15001  15002      0  I had been looking forward to seeing Dreamgirl...\n",
      "15002  15003      0  I gave this loooooooooooong film a \\2\\\" becaus...\n",
      "15003  15004      1  what is wrong with you people, if you weren't ...\n",
      "15004  15005      1  My parents took me to this movie when I was ni...\n",
      "15005  15006      0  If you haven't seen this yet, I say just move ...\n",
      "15006  15007      1  An MGM MINIATURE Short Subject.<br /><br />The...\n",
      "15007  15008      0  The only possible way to enjoy this flick is t...\n",
      "15008  15009      1  New York, I Love You is a collective work of e...\n",
      "15009  15010      1  A lovely old - fashioned thriller coming on li...\n",
      "15010  15011      0  From watching only the trailer to Theodore Rex...\n",
      "15011  15012      0  Tim Robbins and John Cusack are two actors I h...\n",
      "15012  15013      1  I have no idea how to describe this movie, and...\n",
      "15013  15014      0  Bugs Bunny accidentally ends up at the South P...\n",
      "15014  15015      1  MYSTERY MEN has got to be THE stupidest film I...\n",
      "15015  15016      1  Loved it but still have nightmares over the ho...\n",
      "15016  15017      1  This movie is basically a documentary of the c...\n",
      "15017  15018      1  The movie may be great. I just watched it last...\n",
      "15018  15019      0  I'll be blunt. I'm not one for politically cor...\n",
      "15019  15020      0  Well, the big money machine has done it again!...\n",
      "15020  15021      0  Err...this movie sucked. A LOT.<br /><br />I h...\n",
      "15021  15022      1  it's movies like these that make you wish that...\n",
      "15022  15023      1  It is Queen Victoria's misfortune to be define...\n",
      "15023  15024      1  This is the first Tom Hanks movie I have gotte...\n",
      "15024  15025      1  Chris Gerolmo took care not to simply give us ...\n",
      "15025  15026      1  All Dogs Go to Heaven plays on the canine crim...\n",
      "15026  15027      0  The movie is very lengthy and unfortunately pr...\n",
      "15027  15028      1  Gung Ho tries to express many ideas and entert...\n",
      "15028  15029      0  This is the worst imaginable crap. The novel b...\n",
      "15029  15030      0  Honestly, who in God's name gave this movie an...\n",
      "...      ...    ...                                                ...\n",
      "24970  24971     -1  Red Rock West (1993)<br /><br />Nicolas Cage g...\n",
      "24971  24972     -1  what can i say?, ms Erika Eleniak is my favori...\n",
      "24972  24973     -1  The spoiler warning is for those people who wa...\n",
      "24973  24974     -1  What do you call a horror story without horror...\n",
      "24974  24975     -1  Though not a horror film in the traditional se...\n",
      "24975  24976     -1  This was what black society was like before th...\n",
      "24976  24977     -1  They probably should have called this movie Th...\n",
      "24977  24978     -1  Attractive Marjorie(Farrah Fawcett)lives in fe...\n",
      "24978  24979     -1  Vaguely reminiscent of great 1940's westerns, ...\n",
      "24979  24980     -1  I admit I had no idea what to expect before vi...\n",
      "24980  24981     -1  To me, the final scene, in which Harris respon...\n",
      "24981  24982     -1  This is by far the funniest short made by the ...\n",
      "24982  24983     -1  To be a Buster Keaton fan is to have your hear...\n",
      "24983  24984     -1  I was one of those \\few Americans\\\" that grew ...\n",
      "24984  24985     -1  Visually disjointed and full of itself, the di...\n",
      "24985  24986     -1  this movie had more holes than a piece of swis...\n",
      "24986  24987     -1  Last November, I had a chance to see this film...\n",
      "24987  24988     -1  First off, I'd like to make a correction on an...\n",
      "24988  24989     -1  While originally reluctant to jump on the band...\n",
      "24989  24990     -1  I heard about this movie when watching VH1's \\...\n",
      "24990  24991     -1  I've never been huge on IMAX films. They're co...\n",
      "24991  24992     -1  Steve McQueen has certainly a lot of loyal fan...\n",
      "24992  24993     -1  Sometimes you wonder how some people get fundi...\n",
      "24993  24994     -1  I am a student of film, and have been for seve...\n",
      "24994  24995     -1  Unimaginably stupid, redundant and humiliating...\n",
      "24995  24996     -1  It seems like more consideration has gone into...\n",
      "24996  24997     -1  I don't believe they made this film. Completel...\n",
      "24997  24998     -1  Guy is a loser. Can't get girls, needs to buil...\n",
      "24998  24999     -1  This 30 minute documentary Buñuel made in the ...\n",
      "24999  25000     -1  I saw this movie as a child and it broke my he...\n",
      "\n",
      "[10000 rows x 3 columns]\n"
     ]
    }
   ],
   "source": [
    "#df_test = pd.read_csv(\"C:/Users/heave/Project/Machine-learning-and-Data-mining/data/question1_sentiment.csv\")\n",
    "\n",
    "#df_test为测试集\n",
    "df_test = data.tail(n = 10000)\n",
    "print(df_test)"
   ]
  },
  {
   "cell_type": "code",
   "execution_count": 12,
   "metadata": {},
   "outputs": [],
   "source": [
    "\n",
    "#data[\"review\"].head()\n",
    "#data.to_csv('cleanfile.csv' encoding='utf-8') #数据保存\n",
    "\n",
    "df_train.review = df_train.review.str.lower()\n",
    "df_train.review = df_train.review.str.strip()\n",
    "#data.dropna() #删除包含NA的不完整的行\n",
    "#data.dropna(subset=['review'])\n",
    "#data.review.head()"
   ]
  },
  {
   "cell_type": "code",
   "execution_count": 13,
   "metadata": {},
   "outputs": [
    {
     "name": "stdout",
     "output_type": "stream",
     "text": [
      "[nltk_data] Downloading package stopwords to\n",
      "[nltk_data]     C:\\Users\\heave\\AppData\\Roaming\\nltk_data...\n",
      "[nltk_data]   Package stopwords is already up-to-date!\n"
     ]
    },
    {
     "data": {
      "text/html": [
       "<div>\n",
       "<style scoped>\n",
       "    .dataframe tbody tr th:only-of-type {\n",
       "        vertical-align: middle;\n",
       "    }\n",
       "\n",
       "    .dataframe tbody tr th {\n",
       "        vertical-align: top;\n",
       "    }\n",
       "\n",
       "    .dataframe thead th {\n",
       "        text-align: right;\n",
       "    }\n",
       "</style>\n",
       "<table border=\"1\" class=\"dataframe\">\n",
       "  <thead>\n",
       "    <tr style=\"text-align: right;\">\n",
       "      <th></th>\n",
       "      <th>id</th>\n",
       "      <th>label</th>\n",
       "      <th>review</th>\n",
       "    </tr>\n",
       "  </thead>\n",
       "  <tbody>\n",
       "    <tr>\n",
       "      <th>0</th>\n",
       "      <td>1</td>\n",
       "      <td>1</td>\n",
       "      <td>stuff going moment mj started listening music ...</td>\n",
       "    </tr>\n",
       "    <tr>\n",
       "      <th>1</th>\n",
       "      <td>2</td>\n",
       "      <td>1</td>\n",
       "      <td>classic war worlds timothy hines entertaining ...</td>\n",
       "    </tr>\n",
       "    <tr>\n",
       "      <th>2</th>\n",
       "      <td>3</td>\n",
       "      <td>0</td>\n",
       "      <td>film starts manager nicholas bell giving welco...</td>\n",
       "    </tr>\n",
       "    <tr>\n",
       "      <th>3</th>\n",
       "      <td>4</td>\n",
       "      <td>0</td>\n",
       "      <td>must assumed praised film greatest filmed oper...</td>\n",
       "    </tr>\n",
       "    <tr>\n",
       "      <th>4</th>\n",
       "      <td>5</td>\n",
       "      <td>1</td>\n",
       "      <td>superbly trashy wondrously unpretentious explo...</td>\n",
       "    </tr>\n",
       "  </tbody>\n",
       "</table>\n",
       "</div>"
      ],
      "text/plain": [
       "   id  label                                             review\n",
       "0   1      1  stuff going moment mj started listening music ...\n",
       "1   2      1  classic war worlds timothy hines entertaining ...\n",
       "2   3      0  film starts manager nicholas bell giving welco...\n",
       "3   4      0  must assumed praised film greatest filmed oper...\n",
       "4   5      1  superbly trashy wondrously unpretentious explo..."
      ]
     },
     "execution_count": 13,
     "metadata": {},
     "output_type": "execute_result"
    }
   ],
   "source": [
    "from bs4 import BeautifulSoup\n",
    "nltk.download(\"stopwords\")\n",
    "\n",
    "def review_to_words( raw_review ):\n",
    "    # 1. Remove HTML\n",
    "    review_text = BeautifulSoup(raw_review, 'lxml').get_text() \n",
    "    \n",
    "    # 2. Remove non-letters with regex\n",
    "    letters_only = re.sub(\"[^a-zA-Z]\", \" \", review_text) \n",
    "    \n",
    "    # 3. Convert to lower case, split into individual words\n",
    "    words = letters_only.lower().split()                           \n",
    "    \n",
    "    # 4. Create set of stopwords\n",
    "    stops = set(stopwords.words(\"english\"))                  \n",
    "    \n",
    "    # 5. Remove stop words\n",
    "    meaningful_words = [w for w in words if not w in stops]   \n",
    "    \n",
    "    # 6. Join the words back into one string separated by space, \n",
    "    # and return the result.\n",
    "    return( \" \".join( meaningful_words ))   \n",
    "\n",
    "df_train[\"review\"]=df_train[\"review\"].apply(review_to_words)\n",
    "#df_test.dropna()\n",
    "df_train.head()"
   ]
  },
  {
   "cell_type": "code",
   "execution_count": 14,
   "metadata": {},
   "outputs": [
    {
     "data": {
      "text/html": [
       "<div>\n",
       "<style scoped>\n",
       "    .dataframe tbody tr th:only-of-type {\n",
       "        vertical-align: middle;\n",
       "    }\n",
       "\n",
       "    .dataframe tbody tr th {\n",
       "        vertical-align: top;\n",
       "    }\n",
       "\n",
       "    .dataframe thead th {\n",
       "        text-align: right;\n",
       "    }\n",
       "</style>\n",
       "<table border=\"1\" class=\"dataframe\">\n",
       "  <thead>\n",
       "    <tr style=\"text-align: right;\">\n",
       "      <th></th>\n",
       "      <th>id</th>\n",
       "      <th>label</th>\n",
       "      <th>review</th>\n",
       "    </tr>\n",
       "  </thead>\n",
       "  <tbody>\n",
       "    <tr>\n",
       "      <th>15000</th>\n",
       "      <td>15001</td>\n",
       "      <td>1</td>\n",
       "      <td>father pride best new show hit television sinc...</td>\n",
       "    </tr>\n",
       "    <tr>\n",
       "      <th>15001</th>\n",
       "      <td>15002</td>\n",
       "      <td>0</td>\n",
       "      <td>looking forward seeing dreamgirls quite raving...</td>\n",
       "    </tr>\n",
       "    <tr>\n",
       "      <th>15002</th>\n",
       "      <td>15003</td>\n",
       "      <td>0</td>\n",
       "      <td>gave loooooooooooong film attractive actors se...</td>\n",
       "    </tr>\n",
       "    <tr>\n",
       "      <th>15003</th>\n",
       "      <td>15004</td>\n",
       "      <td>1</td>\n",
       "      <td>wrong people blown away action car sequences j...</td>\n",
       "    </tr>\n",
       "    <tr>\n",
       "      <th>15004</th>\n",
       "      <td>15005</td>\n",
       "      <td>1</td>\n",
       "      <td>parents took movie nine years old never forgot...</td>\n",
       "    </tr>\n",
       "  </tbody>\n",
       "</table>\n",
       "</div>"
      ],
      "text/plain": [
       "          id  label                                             review\n",
       "15000  15001      1  father pride best new show hit television sinc...\n",
       "15001  15002      0  looking forward seeing dreamgirls quite raving...\n",
       "15002  15003      0  gave loooooooooooong film attractive actors se...\n",
       "15003  15004      1  wrong people blown away action car sequences j...\n",
       "15004  15005      1  parents took movie nine years old never forgot..."
      ]
     },
     "execution_count": 14,
     "metadata": {},
     "output_type": "execute_result"
    }
   ],
   "source": [
    "df_test['review']=df_test['review'].apply(review_to_words)\n",
    "\n",
    "#data.dropna() #删除包含NA的不完整的行\n",
    "df_test.head()"
   ]
  },
  {
   "cell_type": "code",
   "execution_count": 15,
   "metadata": {},
   "outputs": [
    {
     "data": {
      "text/plain": [
       "(id        0\n",
       " label     0\n",
       " review    0\n",
       " dtype: int64, id        0\n",
       " label     0\n",
       " review    0\n",
       " dtype: int64)"
      ]
     },
     "execution_count": 15,
     "metadata": {},
     "output_type": "execute_result"
    }
   ],
   "source": [
    "df_train.isnull().sum(),df_test.isnull().sum()\n"
   ]
  },
  {
   "cell_type": "code",
   "execution_count": 8,
   "metadata": {
    "scrolled": true
   },
   "outputs": [
    {
     "ename": "ModuleNotFoundError",
     "evalue": "No module named 'wordcloud'",
     "output_type": "error",
     "traceback": [
      "\u001b[1;31m---------------------------------------------------------------------------\u001b[0m",
      "\u001b[1;31mModuleNotFoundError\u001b[0m                       Traceback (most recent call last)",
      "\u001b[1;32m<ipython-input-8-686b25267f0a>\u001b[0m in \u001b[0;36m<module>\u001b[1;34m\u001b[0m\n\u001b[1;32m----> 1\u001b[1;33m \u001b[1;32mfrom\u001b[0m \u001b[0mwordcloud\u001b[0m \u001b[1;32mimport\u001b[0m \u001b[0mWordCloud\u001b[0m\u001b[1;33m,\u001b[0m \u001b[0mSTOPWORDS\u001b[0m\u001b[1;33m\u001b[0m\u001b[1;33m\u001b[0m\u001b[0m\n\u001b[0m\u001b[0;32m      2\u001b[0m \u001b[0mstopwords\u001b[0m \u001b[1;33m=\u001b[0m \u001b[0mset\u001b[0m\u001b[1;33m(\u001b[0m\u001b[0mSTOPWORDS\u001b[0m\u001b[1;33m)\u001b[0m\u001b[1;33m\u001b[0m\u001b[1;33m\u001b[0m\u001b[0m\n\u001b[0;32m      3\u001b[0m \u001b[1;33m\u001b[0m\u001b[0m\n\u001b[0;32m      4\u001b[0m \u001b[1;32mdef\u001b[0m \u001b[0mshow_wordcloud\u001b[0m\u001b[1;33m(\u001b[0m\u001b[0mdata\u001b[0m\u001b[1;33m,\u001b[0m \u001b[0mtitle\u001b[0m \u001b[1;33m=\u001b[0m \u001b[1;32mNone\u001b[0m\u001b[1;33m)\u001b[0m\u001b[1;33m:\u001b[0m\u001b[1;33m\u001b[0m\u001b[1;33m\u001b[0m\u001b[0m\n\u001b[0;32m      5\u001b[0m     wordcloud = WordCloud(\n",
      "\u001b[1;31mModuleNotFoundError\u001b[0m: No module named 'wordcloud'"
     ]
    }
   ],
   "source": [
    "from wordcloud import WordCloud, STOPWORDS\n",
    "stopwords = set(STOPWORDS)\n",
    "\n",
    "def show_wordcloud(data, title = None):\n",
    "    wordcloud = WordCloud(\n",
    "        background_color='black',\n",
    "        stopwords=stopwords,\n",
    "        max_words=200,\n",
    "        max_font_size=40, \n",
    "        scale=3,\n",
    "        random_state=1 # chosen at random by flipping a coin; it was heads\n",
    ").generate(str(data))\n",
    "\n",
    "    fig = plt.figure(1, figsize=(15, 15))\n",
    "    plt.axis('off')\n",
    "    if title: \n",
    "        fig.suptitle(title, fontsize=20)\n",
    "        fig.subplots_adjust(top=2.3)\n",
    "\n",
    "    plt.imshow(wordcloud)\n",
    "    plt.show()\n",
    "\n",
    "show_wordcloud(df_train[\"review\"])"
   ]
  },
  {
   "cell_type": "code",
   "execution_count": 16,
   "metadata": {},
   "outputs": [
    {
     "name": "stderr",
     "output_type": "stream",
     "text": [
      "Using TensorFlow backend.\n"
     ]
    }
   ],
   "source": [
    "from keras.preprocessing.text import Tokenizer\n",
    "from keras.preprocessing.sequence import pad_sequences\n",
    "from keras.layers import Dense , Input , LSTM , Embedding, Dropout , Activation\n",
    "from keras.layers import Bidirectional, GlobalMaxPool1D\n",
    "from keras.models import Model\n",
    "from keras import initializers, regularizers, constraints, optimizers, layers"
   ]
  },
  {
   "cell_type": "code",
   "execution_count": 17,
   "metadata": {},
   "outputs": [],
   "source": [
    "list_classes = [\"label\"]\n",
    "y = df_train[list_classes].values\n",
    "list_sentences_train = df_train[\"review\"]\n",
    "list_sentences_test = df_test[\"review\"]"
   ]
  },
  {
   "cell_type": "code",
   "execution_count": 18,
   "metadata": {},
   "outputs": [],
   "source": [
    "max_features = 6000\n",
    "tokenizer = Tokenizer(num_words=max_features)   #分词器最大化6000字 利用Kelas函数进行标记化和填充的预处理\n",
    "tokenizer.fit_on_texts(list(list_sentences_train))\n",
    "list_tokenized_train = tokenizer.texts_to_sequences(list_sentences_train)\n",
    "list_tokenized_test = tokenizer.texts_to_sequences(list_sentences_test)"
   ]
  },
  {
   "cell_type": "code",
   "execution_count": 19,
   "metadata": {},
   "outputs": [
    {
     "data": {
      "image/png": "[encoded data removed]",
      "text/plain": [
       "<Figure size 432x288 with 1 Axes>"
      ]
     },
     "metadata": {
      "needs_background": "light"
     },
     "output_type": "display_data"
    }
   ],
   "source": [
    "#字长分布检验\n",
    "totalNumWords = [len(one_comment) for one_comment in list_tokenized_train]\n",
    "plt.hist(totalNumWords,bins = np.arange(0,410,10))#[0,50,100,150,200,250,300,350,400])#,450,500,550,600,650,700,750,800,850,900])\n",
    "plt.xlabel(\"Distribution of comment\")\n",
    "plt.ylabel(\"no of comments\")\n",
    "plt.title(\"no of comments vs no of words distribution \")\n",
    "plt.show()"
   ]
  },
  {
   "cell_type": "code",
   "execution_count": 20,
   "metadata": {},
   "outputs": [],
   "source": [
    "maxlen = 370\n",
    "X_t = pad_sequences(list_tokenized_train, maxlen=maxlen)\n",
    "X_te = pad_sequences(list_tokenized_test, maxlen=maxlen)"
   ]
  },
  {
   "cell_type": "code",
   "execution_count": 21,
   "metadata": {},
   "outputs": [],
   "source": [
    "inp = Input(shape=(maxlen, ))\n",
    "embed_size = 128\n",
    "x = Embedding(max_features, embed_size)(inp)"
   ]
  },
  {
   "cell_type": "code",
   "execution_count": 22,
   "metadata": {},
   "outputs": [],
   "source": [
    "x = LSTM(60, return_sequences=True,name='lstm_layer')(x)\n",
    "x = GlobalMaxPool1D()(x)\n",
    "x = Dropout(0.1)(x)\n",
    "x = Dense(50, activation=\"relu\")(x)\n",
    "x = Dropout(0.1)(x)\n",
    "x = Dense(1, activation=\"sigmoid\")(x)\n",
    "model = Model(inputs=inp, outputs=x)\n",
    "model.compile(loss='binary_crossentropy',\n",
    "                  optimizer='adam',\n",
    "                  metrics=['accuracy'])"
   ]
  },
  {
   "cell_type": "code",
   "execution_count": 23,
   "metadata": {},
   "outputs": [
    {
     "name": "stdout",
     "output_type": "stream",
     "text": [
      "Train on 16000 samples, validate on 4000 samples\n",
      "Epoch 1/2\n",
      "16000/16000 [==============================] - 151s 9ms/step - loss: 0.4031 - acc: 0.8115 - val_loss: 0.2974 - val_acc: 0.8758\n",
      "Epoch 2/2\n",
      "16000/16000 [==============================] - 156s 10ms/step - loss: 0.2283 - acc: 0.9102 - val_loss: 0.3060 - val_acc: 0.8702\n"
     ]
    },
    {
     "data": {
      "text/plain": [
       "<keras.callbacks.History at 0x1a92ad61128>"
      ]
     },
     "execution_count": 23,
     "metadata": {},
     "output_type": "execute_result"
    }
   ],
   "source": [
    "batch_size = 32\n",
    "epochs = 2\n",
    "model.fit(X_t,y, batch_size=batch_size, epochs=epochs, validation_split=0.2)"
   ]
  },
  {
   "cell_type": "code",
   "execution_count": 38,
   "metadata": {},
   "outputs": [
    {
     "name": "stdout",
     "output_type": "stream",
     "text": [
      "       label\n",
      "15000      1\n",
      "15001      0\n",
      "15002      0\n",
      "15003      1\n",
      "15004      1\n",
      "count= 5000\n"
     ]
    }
   ],
   "source": [
    "#验证集\n",
    "df_verify = df_test.head(n = 5000)\n",
    "del df_verify['review']\n",
    "del df_verify['id']\n",
    "\n",
    "\n",
    "print(df_verify.head())\n",
    "print(\"count=\",len(df_verify))"
   ]
  },
  {
   "cell_type": "code",
   "execution_count": 40,
   "metadata": {},
   "outputs": [
    {
     "name": "stdout",
     "output_type": "stream",
     "text": [
      "[[0.93239677]\n",
      " [0.0864502 ]\n",
      " [0.09367383]\n",
      " ...\n",
      " [0.66555905]\n",
      " [0.05136078]\n",
      " [0.9878328 ]]\n",
      "10000\n"
     ]
    }
   ],
   "source": [
    "#预测结果\n",
    "prediction = model.predict(X_te)\n",
    "print (prediction)\n",
    "print(len(prediction))"
   ]
  },
  {
   "cell_type": "code",
   "execution_count": 75,
   "metadata": {},
   "outputs": [
    {
     "name": "stdout",
     "output_type": "stream",
     "text": [
      "          id     label\n",
      "20000  20001  0.919656\n",
      "20001  20002  0.650700\n",
      "20002  20003  0.992861\n",
      "20003  20004  0.814771\n",
      "20004  20005  0.182021\n",
      "20005  20006  0.658124\n",
      "20006  20007  0.001662\n",
      "20007  20008  0.132718\n",
      "20008  20009  0.312299\n",
      "20009  20010  0.047502\n",
      "20010  20011  0.971798\n",
      "20011  20012  0.035600\n",
      "20012  20013  0.341755\n",
      "20013  20014  0.249129\n",
      "20014  20015  0.003538\n",
      "20015  20016  0.072217\n",
      "20016  20017  0.969290\n",
      "20017  20018  0.983735\n",
      "20018  20019  0.269444\n",
      "20019  20020  0.016009\n",
      "20020  20021  0.169655\n",
      "20021  20022  0.004247\n",
      "20022  20023  0.966571\n",
      "20023  20024  0.014849\n",
      "20024  20025  0.038855\n",
      "20025  20026  0.967200\n",
      "20026  20027  0.032739\n",
      "20027  20028  0.777346\n",
      "20028  20029  0.942506\n",
      "20029  20030  0.961595\n",
      "...      ...       ...\n",
      "24970  24971  0.985634\n",
      "24971  24972  0.868245\n",
      "24972  24973  0.972229\n",
      "24973  24974  0.007892\n",
      "24974  24975  0.866102\n",
      "24975  24976  0.963141\n",
      "24976  24977  0.068971\n",
      "24977  24978  0.816698\n",
      "24978  24979  0.989890\n",
      "24979  24980  0.970651\n",
      "24980  24981  0.142689\n",
      "24981  24982  0.956404\n",
      "24982  24983  0.060254\n",
      "24983  24984  0.605860\n",
      "24984  24985  0.033709\n",
      "24985  24986  0.038311\n",
      "24986  24987  0.983480\n",
      "24987  24988  0.776420\n",
      "24988  24989  0.433150\n",
      "24989  24990  0.358426\n",
      "24990  24991  0.271844\n",
      "24991  24992  0.120564\n",
      "24992  24993  0.036669\n",
      "24993  24994  0.266984\n",
      "24994  24995  0.001543\n",
      "24995  24996  0.037648\n",
      "24996  24997  0.011237\n",
      "24997  24998  0.665559\n",
      "24998  24999  0.051361\n",
      "24999  25000  0.987833\n",
      "\n",
      "[5000 rows x 2 columns]\n"
     ]
    }
   ],
   "source": [
    "#中间结果输出\n",
    "pre_output = df_test.tail(n= 5000)\n",
    "del pre_output['review']\n",
    "pre_output['label'] = prediction[range(5000,10000)]\n",
    "print(pre_output)\n",
    "\n",
    "pre_output.to_csv(\"C:/Users/heave/Project/submission_1.csv\",index=False)"
   ]
  },
  {
   "cell_type": "code",
   "execution_count": 58,
   "metadata": {},
   "outputs": [
    {
     "name": "stdout",
     "output_type": "stream",
     "text": [
      "[[ True]\n",
      " [False]\n",
      " [False]\n",
      " ...\n",
      " [ True]\n",
      " [False]\n",
      " [ True]]\n",
      "10000\n"
     ]
    }
   ],
   "source": [
    "#将结果整理\n",
    "df_pred = (prediction > 0.5)\n",
    "print(df_pred)\n",
    "print(len(df_pred))"
   ]
  },
  {
   "cell_type": "code",
   "execution_count": 63,
   "metadata": {},
   "outputs": [
    {
     "name": "stdout",
     "output_type": "stream",
     "text": [
      "[[ True]\n",
      " [False]\n",
      " [False]\n",
      " ...\n",
      " [False]\n",
      " [False]\n",
      " [False]]\n",
      "count= 5000\n",
      "[[ True]\n",
      " [ True]\n",
      " [ True]\n",
      " ...\n",
      " [ True]\n",
      " [False]\n",
      " [ True]]\n",
      "count= 5000\n"
     ]
    }
   ],
   "source": [
    " #df_test[\"label\"] = df_test[\"id\"].map(lambda x: 1 if int(x.strip('\"').split(\"_\")[1]) >= 5 else 0)\n",
    "# df_test[\"label\"] = df_test[\"id\"].map(lambda x: 1 if x >= 5 else 0)\n",
    "\n",
    "#测试验证集\n",
    "y_verify = df_pred[range(0,5000)]\n",
    "print(y_verify)\n",
    "print(\"count=\" , len(y_verify))\n",
    "\n",
    "\n",
    "#结果集\n",
    "y_pred = df_pred[range(5000,10000)]\n",
    "print(y_pred)\n",
    "print(\"count=\" , len(y_pred))\n",
    "\n",
    "\n"
   ]
  },
  {
   "cell_type": "code",
   "execution_count": 64,
   "metadata": {},
   "outputs": [
    {
     "name": "stdout",
     "output_type": "stream",
     "text": [
      "F1-score: 0.888844382134989\n",
      "Confusion matrix:\n"
     ]
    },
    {
     "data": {
      "text/plain": [
       "array([[2226,  289],\n",
       "       [ 266, 2219]], dtype=int64)"
      ]
     },
     "execution_count": 64,
     "metadata": {},
     "output_type": "execute_result"
    }
   ],
   "source": [
    "from sklearn.metrics import f1_score, confusion_matrix\n",
    "print('F1-score: {0}'.format(f1_score(df_verify, y_verify)))\n",
    "print('Confusion matrix:')\n",
    "confusion_matrix(df_verify, y_verify)  #输出混淆矩阵"
   ]
  },
  {
   "cell_type": "code",
   "execution_count": 65,
   "metadata": {},
   "outputs": [
    {
     "name": "stdout",
     "output_type": "stream",
     "text": [
      "[[1]\n",
      " [1]\n",
      " [1]\n",
      " ...\n",
      " [1]\n",
      " [0]\n",
      " [1]]\n"
     ]
    }
   ],
   "source": [
    "y_pred =y_pred.astype('int')\n",
    "print(y_pred)\n"
   ]
  },
  {
   "cell_type": "code",
   "execution_count": 70,
   "metadata": {},
   "outputs": [
    {
     "name": "stdout",
     "output_type": "stream",
     "text": [
      "          id  label\n",
      "20000  20001      1\n",
      "20001  20002      1\n",
      "20002  20003      1\n",
      "20003  20004      1\n",
      "20004  20005      0\n",
      "20005  20006      1\n",
      "20006  20007      0\n",
      "20007  20008      0\n",
      "20008  20009      0\n",
      "20009  20010      0\n",
      "20010  20011      1\n",
      "20011  20012      0\n",
      "20012  20013      0\n",
      "20013  20014      0\n",
      "20014  20015      0\n",
      "20015  20016      0\n",
      "20016  20017      1\n",
      "20017  20018      1\n",
      "20018  20019      0\n",
      "20019  20020      0\n",
      "20020  20021      0\n",
      "20021  20022      0\n",
      "20022  20023      1\n",
      "20023  20024      0\n",
      "20024  20025      0\n",
      "20025  20026      1\n",
      "20026  20027      0\n",
      "20027  20028      1\n",
      "20028  20029      1\n",
      "20029  20030      1\n",
      "...      ...    ...\n",
      "24970  24971      1\n",
      "24971  24972      1\n",
      "24972  24973      1\n",
      "24973  24974      0\n",
      "24974  24975      1\n",
      "24975  24976      1\n",
      "24976  24977      0\n",
      "24977  24978      1\n",
      "24978  24979      1\n",
      "24979  24980      1\n",
      "24980  24981      0\n",
      "24981  24982      1\n",
      "24982  24983      0\n",
      "24983  24984      1\n",
      "24984  24985      0\n",
      "24985  24986      0\n",
      "24986  24987      1\n",
      "24987  24988      1\n",
      "24988  24989      0\n",
      "24989  24990      0\n",
      "24990  24991      0\n",
      "24991  24992      0\n",
      "24992  24993      0\n",
      "24993  24994      0\n",
      "24994  24995      0\n",
      "24995  24996      0\n",
      "24996  24997      0\n",
      "24997  24998      1\n",
      "24998  24999      0\n",
      "24999  25000      1\n",
      "\n",
      "[5000 rows x 2 columns]\n"
     ]
    }
   ],
   "source": [
    "# ouput submission file \n",
    "#df_test = df_test[['id','label']]\n",
    "\n",
    "#输出结果\n",
    "output = df_test.tail(n= 5000)\n",
    "del output['review']\n",
    "output['label'] = y_pred\n",
    "print(output)"
   ]
  },
  {
   "cell_type": "code",
   "execution_count": 71,
   "metadata": {},
   "outputs": [],
   "source": [
    "output.to_csv(\"C:/Users/heave/Project/question1_submission.csv\",index=False)"
   ]
  },
  {
   "cell_type": "code",
   "execution_count": 73,
   "metadata": {},
   "outputs": [],
   "source": [
    "output.to_csv(\"C:/Users/heave/Project/question1_submission.txt\",index=False)"
   ]
  }
 ],
 "metadata": {
  "kernelspec": {
   "display_name": "Python 3",
   "language": "python",
   "name": "python3"
  },
  "language_info": {
   "codemirror_mode": {
    "name": "ipython",
    "version": 3
   },
   "file_extension": ".py",
   "mimetype": "text/x-python",
   "name": "python",
   "nbconvert_exporter": "python",
   "pygments_lexer": "ipython3",
   "version": "3.6.7"
  }
 },
 "nbformat": 4,
 "nbformat_minor": 2
}
