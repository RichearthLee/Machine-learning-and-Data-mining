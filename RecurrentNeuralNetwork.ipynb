{
 "cells": [
  {
   "cell_type": "code",
   "execution_count": 25,
   "metadata": {},
   "outputs": [
    {
     "name": "stdout",
     "output_type": "stream",
     "text": [
      "   PassengerId  Survived  Pclass  \\\n",
      "0            1         0       3   \n",
      "1            2         1       1   \n",
      "2            3         1       3   \n",
      "3            4         1       1   \n",
      "4            5         0       3   \n",
      "\n",
      "                                                Name     Sex   Age  SibSp  \\\n",
      "0                            Braund, Mr. Owen Harris    male  22.0      1   \n",
      "1  Cumings, Mrs. John Bradley (Florence Briggs Th...  female  38.0      1   \n",
      "2                             Heikkinen, Miss. Laina  female  26.0      0   \n",
      "3       Futrelle, Mrs. Jacques Heath (Lily May Peel)  female  35.0      1   \n",
      "4                           Allen, Mr. William Henry    male  35.0      0   \n",
      "\n",
      "   Parch            Ticket     Fare Cabin Embarked  \n",
      "0      0         A/5 21171   7.2500   NaN        S  \n",
      "1      0          PC 17599  71.2833   C85        C  \n",
      "2      0  STON/O2. 3101282   7.9250   NaN        S  \n",
      "3      0            113803  53.1000  C123        S  \n",
      "4      0            373450   8.0500   NaN        S  \n"
     ]
    }
   ],
   "source": [
    "import pandas as pd\n",
    "import numpy as np\n",
    "\n",
    "data = pd.read_csv(r'C:/Users/heave/Project/titanic_data.csv')\n",
    "data[\"Age\"] = data[\"Age\"].fillna(data[\"Age\"].median())\n",
    "#print(data)\n",
    "#print(data.info())\n",
    "#print (data[\"Sex\"].unique())\n",
    "print(data.head())\n",
    "#print(data.describe())\n",
    "\n",
    "\n"
   ]
  },
  {
   "cell_type": "code",
   "execution_count": 26,
   "metadata": {},
   "outputs": [
    {
     "name": "stdout",
     "output_type": "stream",
     "text": [
      "['male' 'female']\n"
     ]
    }
   ],
   "source": [
    "print (data[\"Sex\"].unique())\n",
    "data.loc[data[\"Sex\"] == \"male\" , \"Sex\"]=0\n",
    "data.loc[data[\"Sex\"] == \"female\" , \"Sex\"]=1"
   ]
  },
  {
   "cell_type": "code",
   "execution_count": 27,
   "metadata": {},
   "outputs": [],
   "source": [
    "from sklearn.linear_model import LinearRegression\n",
    "from sklearn.cross_validation import KFold\n",
    "\n",
    "#the clumnes  used to predict\n",
    "predictors= [\"Pclass\" , \"Sex\" ,\"Age\", \"SibSp\" , \"Parch\" , \"Fare\" ]  #   , \"Embarked\"\n",
    "\n",
    "#initialize our algorithm class\n",
    "alg = LinearRegression()\n",
    "#generate cross validation folds for the dataset \n",
    "kf = KFold(data.shape[0],n_folds=3,random_state=1)\n",
    "\n",
    "predictions = []\n",
    "for train , test in kf:\n",
    "    train_predictors = (data[predictors].iloc[train,:])\n",
    "    \n",
    "    train_target= data[\"Survived\"].iloc[train]\n",
    "    \n",
    "    alg.fit(train_predictors,train_target)\n",
    "    \n",
    "    test_predictions = alg.predict(data[predictors].iloc[test,:])\n",
    "    \n",
    "    predictions.append(test_predictions)\n",
    "\n"
   ]
  },
  {
   "cell_type": "code",
   "execution_count": 32,
   "metadata": {},
   "outputs": [
    {
     "name": "stdout",
     "output_type": "stream",
     "text": [
      "0.7845117845117845\n"
     ]
    }
   ],
   "source": [
    "import numpy as np\n",
    "\n",
    "#predictions = np.concatenate(predictions , axis=0)\n",
    "\n",
    "predictions[predictions > .5] =1\n",
    "predictions[predictions <= .5 ] = 0\n",
    "accuracy = sum(predictions == data[\"Survived\"])/len(predictions)\n",
    "print (accuracy)\n"
   ]
  },
  {
   "cell_type": "code",
   "execution_count": null,
   "metadata": {},
   "outputs": [],
   "source": []
  }
 ],
 "metadata": {
  "kernelspec": {
   "display_name": "Python 3",
   "language": "python",
   "name": "python3"
  },
  "language_info": {
   "codemirror_mode": {
    "name": "ipython",
    "version": 3
   },
   "file_extension": ".py",
   "mimetype": "text/x-python",
   "name": "python",
   "nbconvert_exporter": "python",
   "pygments_lexer": "ipython3",
   "version": "3.7.0"
  }
 },
 "nbformat": 4,
 "nbformat_minor": 2
}
