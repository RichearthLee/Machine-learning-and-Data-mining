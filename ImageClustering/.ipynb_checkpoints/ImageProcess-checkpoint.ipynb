{
 "cells": [
  {
   "cell_type": "code",
   "execution_count": 13,
   "metadata": {},
   "outputs": [
    {
     "name": "stdout",
     "output_type": "stream",
     "text": [
      "(28, 28) 28 28\n",
      "PNG Portable network graphics\n"
     ]
    }
   ],
   "source": [
    "#import cv2\n",
    "from PIL import ImageColor\n",
    "from PIL import Image\n",
    "\n",
    "im_path = r\"C:/Users/heave/Project/data/question2_cluster/1.png\"\n",
    "\n",
    "im = Image.open(im_path )\n",
    "\n",
    "width, height = im.size\n",
    "# 宽高\n",
    "print(im.size, width, height)\n",
    "# 格式，以及格式的详细描述\n",
    "print(im.format, im.format_description)\n",
    "\n",
    "#im.save(r'C:\\Users\\Administrator\\Desktop\\rabbit_copy.jpg')\n",
    "im.show()"
   ]
  }
 ],
 "metadata": {
  "kernelspec": {
   "display_name": "Python 3",
   "language": "python",
   "name": "python3"
  },
  "language_info": {
   "codemirror_mode": {
    "name": "ipython",
    "version": 3
   },
   "file_extension": ".py",
   "mimetype": "text/x-python",
   "name": "python",
   "nbconvert_exporter": "python",
   "pygments_lexer": "ipython3",
   "version": "3.7.0"
  }
 },
 "nbformat": 4,
 "nbformat_minor": 2
}
